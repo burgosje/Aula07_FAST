{
  "nbformat": 4,
  "nbformat_minor": 0,
  "metadata": {
    "colab": {
      "provenance": [],
      "authorship_tag": "ABX9TyN0J9GXy7wa3Y05AXaS2kk5",
      "include_colab_link": true
    },
    "kernelspec": {
      "name": "python3",
      "display_name": "Python 3"
    },
    "language_info": {
      "name": "python"
    }
  },
  "cells": [
    {
      "cell_type": "markdown",
      "metadata": {
        "id": "view-in-github",
        "colab_type": "text"
      },
      "source": [
        "<a href=\"https://colab.research.google.com/github/burgosje/Aula07_FAST/blob/main/Aula7.ipynb\" target=\"_parent\"><img src=\"https://colab.research.google.com/assets/colab-badge.svg\" alt=\"Open In Colab\"/></a>"
      ]
    },
    {
      "cell_type": "markdown",
      "source": [
        "Aula 07 do FAST Transição do Cesar School"
      ],
      "metadata": {
        "id": "Vdkna-pwT4x4"
      }
    },
    {
      "cell_type": "code",
      "execution_count": null,
      "metadata": {
        "colab": {
          "base_uri": "https://localhost:8080/"
        },
        "id": "7Ri14Bf-BWad",
        "outputId": "a0b39c7d-aee7-4ee4-fcbc-6a0800a01fab"
      },
      "outputs": [
        {
          "output_type": "stream",
          "name": "stdout",
          "text": [
            "[253, 345, 564, 543, 643, 4322, 5433, 432, 876, 543, 243, 567, 567, 543, 456, 432, 567, 632, 556, 674, 675, 321, 456, 432, 467, 653, 456, 654, 566, 432]\n"
          ]
        }
      ],
      "source": [
        "import numpy as np\n",
        "\n",
        "def main():\n",
        "    lista_vendas_mes = np.random.rand(1, 30)\n",
        "    lista_vendas_mes = [253, 345, 564, 543,  643, 4322, 5433, 432, 876, 543, 243, 567, 567, 543, 456, 432, 567, 632, 556, 674, 675, 321, 456, 432, 467, 653, 456, 654, 566, 432]\n",
        "\n",
        "    print(lista_vendas_mes)\n",
        "\n",
        "if __name__ == \"__main__\":\n",
        "    main()"
      ]
    }
  ]
}